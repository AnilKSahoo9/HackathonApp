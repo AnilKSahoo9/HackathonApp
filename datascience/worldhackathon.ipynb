{
 "cells": [
  {
   "cell_type": "markdown",
   "id": "fc984656",
   "metadata": {},
   "source": [
    "### OCI Data Science - Useful Tips\n",
    "<details>\n",
    "<summary><font size=\"2\">Check for Public Internet Access</font></summary>\n",
    "\n",
    "```python\n",
    "import requests\n",
    "response = requests.get(\"https://oracle.com\")\n",
    "assert response.status_code==200, \"Internet connection failed\"\n",
    "```\n",
    "</details>\n",
    "<details>\n",
    "<summary><font size=\"2\">Helpful Documentation </font></summary>\n",
    "<ul><li><a href=\"https://docs.cloud.oracle.com/en-us/iaas/data-science/using/data-science.htm\">Data Science Service Documentation</a></li>\n",
    "<li><a href=\"https://docs.cloud.oracle.com/iaas/tools/ads-sdk/latest/index.html\">ADS documentation</a></li>\n",
    "</ul>\n",
    "</details>\n",
    "<details>\n",
    "<summary><font size=\"2\">Typical Cell Imports and Settings for ADS</font></summary>\n",
    "\n",
    "```python\n",
    "%load_ext autoreload\n",
    "%autoreload 2\n",
    "%matplotlib inline\n",
    "\n",
    "import warnings\n",
    "warnings.filterwarnings('ignore')\n",
    "\n",
    "import logging\n",
    "logging.basicConfig(format='%(levelname)s:%(message)s', level=logging.ERROR)\n",
    "\n",
    "import ads\n",
    "from ads.dataset.factory import DatasetFactory\n",
    "from ads.automl.provider import OracleAutoMLProvider\n",
    "from ads.automl.driver import AutoML\n",
    "from ads.evaluations.evaluator import ADSEvaluator\n",
    "from ads.common.data import ADSData\n",
    "from ads.explanations.explainer import ADSExplainer\n",
    "from ads.explanations.mlx_global_explainer import MLXGlobalExplainer\n",
    "from ads.explanations.mlx_local_explainer import MLXLocalExplainer\n",
    "from ads.catalog.model import ModelCatalog\n",
    "from ads.common.model_artifact import ModelArtifact\n",
    "```\n",
    "</details>\n",
    "<details>\n",
    "<summary><font size=\"2\">Useful Environment Variables</font></summary>\n",
    "\n",
    "```python\n",
    "import os\n",
    "print(os.environ[\"NB_SESSION_COMPARTMENT_OCID\"])\n",
    "print(os.environ[\"PROJECT_OCID\"])\n",
    "print(os.environ[\"USER_OCID\"])\n",
    "print(os.environ[\"TENANCY_OCID\"])\n",
    "print(os.environ[\"NB_REGION\"])\n",
    "```\n",
    "</details>"
   ]
  },
  {
   "cell_type": "code",
   "execution_count": 9,
   "id": "242f22f5",
   "metadata": {},
   "outputs": [
    {
     "name": "stdout",
     "output_type": "stream",
     "text": [
      "usage: odsc [-h] {conda,core-site} ...\n",
      "odsc: error: unrecognized arguments: -y\n"
     ]
    }
   ],
   "source": [
    "!odsc  conda  install -s mlcpuv1"
   ]
  },
  {
   "cell_type": "code",
   "execution_count": 130,
   "id": "ec694344",
   "metadata": {},
   "outputs": [],
   "source": [
    "import os\n",
    "import sklearn\n",
    "import pandas as pd\n",
    "from sklearn.preprocessing import MinMaxScaler\n",
    "from sklearn.compose import ColumnTransformer\n",
    "from sklearn.model_selection import train_test_split\n",
    "from sklearn.svm import LinearSVC\n",
    "from sklearn.multioutput import MultiOutputClassifier\n",
    "from sklearn.ensemble import RandomForestClassifier\n"
   ]
  },
  {
   "cell_type": "code",
   "execution_count": 131,
   "id": "00c53a7c",
   "metadata": {},
   "outputs": [],
   "source": [
    "data=pd.read_csv('fake_dataset (1).csv', engine='python')"
   ]
  },
  {
   "cell_type": "code",
   "execution_count": 132,
   "id": "07efec90",
   "metadata": {},
   "outputs": [],
   "source": [
    "duplicates=['','ike','onate books ','alk to elderly','o to framer market','olunteer to a Cause','upport local produce',\n",
    "            'uy  handmade products','upport startups ideas','ake an emergency package','ttend  community service',\n",
    "            'elp someone with your skills','ontribute to local communities','ntroduce your self to your neighbours',\n",
    "            'uy from \"nothing group\" facebook group','repare your emergency kit for fire diaster',\n",
    "            'eliver grocery or medications to neighbours','nvitee community member to your celebrations',\n",
    "            'ake a test to check your wellbeing after disaster','onate local hospitals and well being centres online',\n",
    "            'heck if the house is at risk by looking at the flood map',\n",
    "            'egister at flood warning service/ and bureau of meteorology warning service']\n",
    "for i in range(data.shape[0]):\n",
    "    temp_list=data['acts'].values[i].split(',')\n",
    "    for item in temp_list:\n",
    "        if item in duplicates:\n",
    "            data['acts'].values[i]=None\n"
   ]
  },
  {
   "cell_type": "code",
   "execution_count": 133,
   "id": "fb428b35",
   "metadata": {},
   "outputs": [
    {
     "data": {
      "text/plain": [
       "(17520, 12)"
      ]
     },
     "execution_count": 133,
     "metadata": {},
     "output_type": "execute_result"
    }
   ],
   "source": [
    "data=data.dropna()\n",
    "data.shape"
   ]
  },
  {
   "cell_type": "code",
   "execution_count": 134,
   "id": "6480aae7",
   "metadata": {},
   "outputs": [],
   "source": [
    "acts_list=[]\n",
    "for i in range(data.shape[0]):\n",
    "    temp_list=data['acts'].values[i].split(',')\n",
    "    for item in temp_list:\n",
    "        if not (item in acts_list):\n",
    "            acts_list.append(item)"
   ]
  },
  {
   "cell_type": "code",
   "execution_count": 135,
   "id": "c24aa0c6",
   "metadata": {},
   "outputs": [],
   "source": [
    "for item in acts_list:\n",
    "    data[item]=None"
   ]
  },
  {
   "cell_type": "code",
   "execution_count": 136,
   "id": "3feb1212",
   "metadata": {},
   "outputs": [],
   "source": [
    "for i in range(data.shape[0]):\n",
    "    temp_list=data['acts'].values[i].split(',')\n",
    "    for item in acts_list:\n",
    "        if item in temp_list:\n",
    "            data[item].values[i]=1\n",
    "        else:\n",
    "            data[item].values[i]=0"
   ]
  },
  {
   "cell_type": "code",
   "execution_count": 137,
   "id": "784e8c67",
   "metadata": {},
   "outputs": [],
   "source": [
    "data=data.drop(['acts','name'],axis=1)"
   ]
  },
  {
   "cell_type": "code",
   "execution_count": 138,
   "id": "5eccd1fe",
   "metadata": {},
   "outputs": [],
   "source": [
    "all_cols=data.columns\n",
    "input_cols=all_cols[:10]\n",
    "out_cols=all_cols[10:]\n",
    "t = [('num', MinMaxScaler(), all_cols)]\n",
    "col_transform = ColumnTransformer(transformers=t,remainder='passthrough')"
   ]
  },
  {
   "cell_type": "code",
   "execution_count": 139,
   "id": "f120b2c1",
   "metadata": {},
   "outputs": [],
   "source": [
    "transformed_data=col_transform.fit_transform(data)"
   ]
  },
  {
   "cell_type": "code",
   "execution_count": 140,
   "id": "2ed529d4",
   "metadata": {},
   "outputs": [],
   "source": [
    "X=transformed_data[:,:10].astype(np.float32)\n",
    "y=transformed_data[:,10:].astype(np.uint8)"
   ]
  },
  {
   "cell_type": "code",
   "execution_count": 141,
   "id": "2c001e86",
   "metadata": {},
   "outputs": [],
   "source": [
    "Xtrain,Xtest,ytrain,ytest=train_test_split(X,y,test_size=0.2)"
   ]
  },
  {
   "cell_type": "code",
   "execution_count": 142,
   "id": "1200f38d",
   "metadata": {},
   "outputs": [
    {
     "name": "stdout",
     "output_type": "stream",
     "text": [
      "(14016, 10)\n",
      "(3504, 10)\n",
      "(14016, 39)\n",
      "(3504, 39)\n"
     ]
    }
   ],
   "source": [
    "print(Xtrain.shape)\n",
    "print(Xtest.shape)\n",
    "print(ytrain.shape)\n",
    "print(ytest.shape)"
   ]
  },
  {
   "cell_type": "code",
   "execution_count": 143,
   "id": "6221affc",
   "metadata": {},
   "outputs": [
    {
     "data": {
      "text/plain": [
       "RandomForestClassifier()"
      ]
     },
     "execution_count": 143,
     "metadata": {},
     "output_type": "execute_result"
    }
   ],
   "source": [
    "model=RandomForestClassifier()\n",
    "model.fit(Xtrain, ytrain)"
   ]
  },
  {
   "cell_type": "code",
   "execution_count": 144,
   "id": "8124b8b0",
   "metadata": {},
   "outputs": [
    {
     "data": {
      "text/plain": [
       "0.00028538812785388126"
      ]
     },
     "execution_count": 144,
     "metadata": {},
     "output_type": "execute_result"
    }
   ],
   "source": [
    "model.score(Xtest,ytest)"
   ]
  },
  {
   "cell_type": "code",
   "execution_count": 160,
   "id": "ad95f05e",
   "metadata": {},
   "outputs": [],
   "source": [
    "def predict(name,age,lat,lng,disable,outdoor,preparation,community,local_support,environment,asset_protection):\n",
    "    \n",
    "    input_vals=np.array([age,lat,lng,disable,outdoor,preparation,community,local_support,environment,asset_protection])\n",
    "    input_arr=np.zeros(49)\n",
    "    input_arr[:10]=input_vals\n",
    "    df_input=pd.DataFrame(input_arr.reshape(1,-1))\n",
    "    df_input.columns=all_cols\n",
    "    transformed_input=col_transform.transform(df_input)\n",
    "    \n",
    "    transformed_output=np.squeeze(model.predict(transformed_input[0,:10].reshape(1,-1)))\n",
    "    pred_acts=[]\n",
    "    for i in range(transformed_output.shape[0]):\n",
    "        if transformed_output[i]:\n",
    "            pred_acts.append(out_cols[i])\n",
    "    return pred_acts"
   ]
  },
  {
   "cell_type": "code",
   "execution_count": 161,
   "id": "bcaf50e1",
   "metadata": {},
   "outputs": [
    {
     "data": {
      "text/plain": [
       "['Donate plants/tree to school or communitysupport local meetup group',\n",
       " 'Help in your neighbors garden',\n",
       " 'Invitee community member to your celebrations',\n",
       " 'Buy from \"nothing group\" facebook group',\n",
       " 'Support startups ideas',\n",
       " 'Try 5-min meditation']"
      ]
     },
     "execution_count": 161,
     "metadata": {},
     "output_type": "execute_result"
    }
   ],
   "source": [
    "predict('John Cena',50,-32.0525,115.8878,False,True,0,1,1,1,0)"
   ]
  },
  {
   "cell_type": "code",
   "execution_count": 157,
   "id": "4f611549",
   "metadata": {},
   "outputs": [
    {
     "data": {
      "text/plain": [
       "39"
      ]
     },
     "execution_count": 157,
     "metadata": {},
     "output_type": "execute_result"
    }
   ],
   "source": [
    "len(out_cols)"
   ]
  },
  {
   "cell_type": "code",
   "execution_count": null,
   "id": "dabb1e4e",
   "metadata": {},
   "outputs": [],
   "source": []
  }
 ],
 "metadata": {
  "kernelspec": {
   "display_name": "Python [conda env:mlcpuv1]",
   "language": "python",
   "name": "conda-env-mlcpuv1-py"
  },
  "language_info": {
   "codemirror_mode": {
    "name": "ipython",
    "version": 3
   },
   "file_extension": ".py",
   "mimetype": "text/x-python",
   "name": "python",
   "nbconvert_exporter": "python",
   "pygments_lexer": "ipython3",
   "version": "3.6.11"
  }
 },
 "nbformat": 4,
 "nbformat_minor": 5
}
